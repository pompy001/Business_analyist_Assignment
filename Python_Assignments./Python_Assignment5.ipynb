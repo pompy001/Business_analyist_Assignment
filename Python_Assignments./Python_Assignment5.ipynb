{
 "cells": [
  {
   "cell_type": "markdown",
   "id": "0e112b06",
   "metadata": {},
   "source": [
    "## 1. Python program to print all negative numbers in a range"
   ]
  },
  {
   "cell_type": "code",
   "execution_count": 1,
   "id": "c83b3d13",
   "metadata": {},
   "outputs": [],
   "source": [
    "def printnegative(n1,n2):\n",
    "    while n1<=n2:\n",
    "        if n1<0:\n",
    "            print(n1)\n",
    "        n1+=1"
   ]
  },
  {
   "cell_type": "code",
   "execution_count": 2,
   "id": "89756039",
   "metadata": {},
   "outputs": [
    {
     "name": "stdout",
     "output_type": "stream",
     "text": [
      "-20\n",
      "-19\n",
      "-18\n",
      "-17\n",
      "-16\n",
      "-15\n",
      "-14\n",
      "-13\n",
      "-12\n",
      "-11\n",
      "-10\n",
      "-9\n",
      "-8\n",
      "-7\n",
      "-6\n",
      "-5\n",
      "-4\n",
      "-3\n",
      "-2\n",
      "-1\n"
     ]
    }
   ],
   "source": [
    "printnegative(-20,20)"
   ]
  },
  {
   "cell_type": "markdown",
   "id": "bd4febdd",
   "metadata": {},
   "source": [
    "## 2. Remove multiple elements from a list in Python"
   ]
  },
  {
   "cell_type": "code",
   "execution_count": 3,
   "id": "b893cfeb",
   "metadata": {},
   "outputs": [
    {
     "name": "stdout",
     "output_type": "stream",
     "text": [
      "[1, 2, 3]\n"
     ]
    }
   ],
   "source": [
    "lst = [1,2,2,3,4]\n",
    "removelst= [2,4]\n",
    "for i in removelst :\n",
    "    if i in lst:\n",
    "        lst.remove(i) \n",
    "print(lst)\n",
    "    \n",
    "    "
   ]
  },
  {
   "cell_type": "markdown",
   "id": "76a7d2ee",
   "metadata": {},
   "source": [
    "## 3. write a Python program to Remove empty List from List"
   ]
  },
  {
   "cell_type": "code",
   "execution_count": 4,
   "id": "eac660b8",
   "metadata": {},
   "outputs": [
    {
     "name": "stdout",
     "output_type": "stream",
     "text": [
      "[[1, 2, 3], [3, 4, 5], [5, 5, 6]]\n"
     ]
    }
   ],
   "source": [
    "lst = [[1,2,3],[],[3,4,5],[5,5,6]]\n",
    "lst.remove([])\n",
    "print(lst)\n",
    "            "
   ]
  },
  {
   "cell_type": "markdown",
   "id": "5805ac26",
   "metadata": {},
   "source": [
    "## 4. write a Python program to Cloning or Copying a list"
   ]
  },
  {
   "cell_type": "code",
   "execution_count": 5,
   "id": "62f00901",
   "metadata": {},
   "outputs": [
    {
     "name": "stdout",
     "output_type": "stream",
     "text": [
      "[1, 2, 3, 4, 5, 6, 7, 8]\n"
     ]
    }
   ],
   "source": [
    "lst = [1,2,3,4,5,6,7,8]\n",
    "lst1 = lst[:]\n",
    "print(lst1)"
   ]
  },
  {
   "cell_type": "markdown",
   "id": "7bd2dae5",
   "metadata": {},
   "source": [
    "## 5. write a Python program to Count occurrences of an element in a list"
   ]
  },
  {
   "cell_type": "code",
   "execution_count": 6,
   "id": "00a79536",
   "metadata": {},
   "outputs": [],
   "source": [
    "def countele(lst,ele):\n",
    "    count = 0\n",
    "    for i in range (len(lst)):\n",
    "        if lst[i]==ele:\n",
    "            count+=1\n",
    "    return count\n"
   ]
  },
  {
   "cell_type": "code",
   "execution_count": 7,
   "id": "0923ebc0",
   "metadata": {},
   "outputs": [
    {
     "data": {
      "text/plain": [
       "3"
      ]
     },
     "execution_count": 7,
     "metadata": {},
     "output_type": "execute_result"
    }
   ],
   "source": [
    "countele([1,2,3,3,5,6,3],3)"
   ]
  },
  {
   "cell_type": "markdown",
   "id": "f0373460",
   "metadata": {},
   "source": [
    "## 6. write a Python program to Remove empty tuples from a list"
   ]
  },
  {
   "cell_type": "code",
   "execution_count": 8,
   "id": "f0353376",
   "metadata": {},
   "outputs": [],
   "source": [
    "lst = [[1,2,3,4],(),[3,4,5],\"ankit\"]"
   ]
  },
  {
   "cell_type": "code",
   "execution_count": 9,
   "id": "77275197",
   "metadata": {},
   "outputs": [],
   "source": [
    "lst.remove(())"
   ]
  },
  {
   "cell_type": "code",
   "execution_count": 10,
   "id": "2e627027",
   "metadata": {},
   "outputs": [
    {
     "data": {
      "text/plain": [
       "[[1, 2, 3, 4], [3, 4, 5], 'ankit']"
      ]
     },
     "execution_count": 10,
     "metadata": {},
     "output_type": "execute_result"
    }
   ],
   "source": [
    "lst"
   ]
  },
  {
   "cell_type": "markdown",
   "id": "c43cf089",
   "metadata": {},
   "source": [
    "## 7. write a Python program to Program to print duplicates from a list of integers"
   ]
  },
  {
   "cell_type": "code",
   "execution_count": 11,
   "id": "e94bdeb0",
   "metadata": {},
   "outputs": [],
   "source": [
    "def duplicatefind(lst):\n",
    "    duplicate = []\n",
    "    for i in range(len(lst)):\n",
    "        for j in range(len(lst)):\n",
    "            if i!=j and lst[j]==lst[i] and lst[j] not in duplicate:\n",
    "                duplicate.append(lst[j])\n",
    "   \n",
    "    return duplicate\n",
    "\n",
    "# second method\n",
    "\n",
    "# from collections import Counter\n",
    " \n",
    "# l1 = [1,2,1,2,3,4,5,1,1,2,5,6,7,8,9,9]\n",
    "# d = Counter(l1)\n",
    "# print(d)\n",
    " \n",
    "# new_list = list([item for item in d if d[item]>1])\n",
    "# print(new_list)\n",
    "                "
   ]
  },
  {
   "cell_type": "code",
   "execution_count": 12,
   "id": "a137b5d5",
   "metadata": {},
   "outputs": [
    {
     "data": {
      "text/plain": [
       "[2]"
      ]
     },
     "execution_count": 12,
     "metadata": {},
     "output_type": "execute_result"
    }
   ],
   "source": [
    "duplicatefind([1,2,2,3,4,5,6,7])"
   ]
  },
  {
   "cell_type": "markdown",
   "id": "4a18a67e",
   "metadata": {},
   "source": [
    "##  8. write a Python program to find Cumulative sum of a list"
   ]
  },
  {
   "cell_type": "code",
   "execution_count": 13,
   "id": "4b9a9a53",
   "metadata": {},
   "outputs": [],
   "source": [
    "def cummlst(lst):\n",
    "    cummlst=[]\n",
    "    sumlst = 0\n",
    "    for i in lst:\n",
    "        sumlst+=i\n",
    "        cummlst.append(sumlst)\n",
    "    return cummlst\n",
    "        "
   ]
  },
  {
   "cell_type": "code",
   "execution_count": 14,
   "id": "0ed447c7",
   "metadata": {},
   "outputs": [
    {
     "data": {
      "text/plain": [
       "[1, 3, 6, 10]"
      ]
     },
     "execution_count": 14,
     "metadata": {},
     "output_type": "execute_result"
    }
   ],
   "source": [
    "cummlst([1,2,3,4])"
   ]
  },
  {
   "cell_type": "markdown",
   "id": "3da6e6be",
   "metadata": {},
   "source": [
    "## 9. write a Python program to Sum of number digits in List"
   ]
  },
  {
   "cell_type": "code",
   "execution_count": 15,
   "id": "e306de37",
   "metadata": {},
   "outputs": [],
   "source": [
    "def suminteger(lst):\n",
    "    suminteger = list(map(lambda x : sum(int(y) for y in str(x)),lst))\n",
    "    return suminteger"
   ]
  },
  {
   "cell_type": "code",
   "execution_count": 16,
   "id": "c0e4aed6",
   "metadata": {},
   "outputs": [
    {
     "data": {
      "text/plain": [
       "[3, 3]"
      ]
     },
     "execution_count": 16,
     "metadata": {},
     "output_type": "execute_result"
    }
   ],
   "source": [
    "suminteger([12,12])"
   ]
  },
  {
   "cell_type": "markdown",
   "id": "65bee02c",
   "metadata": {},
   "source": [
    "## 10. write a Python program to Break a list into chunks of size N"
   ]
  },
  {
   "cell_type": "code",
   "execution_count": 17,
   "id": "c48f6106",
   "metadata": {},
   "outputs": [],
   "source": [
    "def breaklist(lst,n):\n",
    "    x = [lst[i:i+n] for i in range(0,len(lst),n)]\n",
    "    return x"
   ]
  },
  {
   "cell_type": "code",
   "execution_count": 18,
   "id": "40b80c8e",
   "metadata": {},
   "outputs": [
    {
     "data": {
      "text/plain": [
       "[[1, 2], [3, 4], [5, 6], [7]]"
      ]
     },
     "execution_count": 18,
     "metadata": {},
     "output_type": "execute_result"
    }
   ],
   "source": [
    "breaklist([1,2,3,4,5,6,7],2)"
   ]
  },
  {
   "cell_type": "markdown",
   "id": "54d34a03",
   "metadata": {},
   "source": [
    "## 11. write a Python program to Sort the values of first list using second list"
   ]
  },
  {
   "cell_type": "code",
   "execution_count": 19,
   "id": "9c707c58",
   "metadata": {},
   "outputs": [
    {
     "name": "stdout",
     "output_type": "stream",
     "text": [
      "[(0, 'ankit'), (0, 'vicky'), (1, 'pranay'), (2, 'toshi'), (6, 'shubham')]\n"
     ]
    }
   ],
   "source": [
    "lst1 = [0,1,2,0,6]\n",
    "lst2= [\"ankit\",\"pranay\",\"toshi\",\"vicky\",\"shubham\"]\n",
    "x = zip(lst1,lst2)\n",
    "print(sorted(set(x)))"
   ]
  }
 ],
 "metadata": {
  "kernelspec": {
   "display_name": "Python 3 (ipykernel)",
   "language": "python",
   "name": "python3"
  },
  "language_info": {
   "codemirror_mode": {
    "name": "ipython",
    "version": 3
   },
   "file_extension": ".py",
   "mimetype": "text/x-python",
   "name": "python",
   "nbconvert_exporter": "python",
   "pygments_lexer": "ipython3",
   "version": "3.9.7"
  }
 },
 "nbformat": 4,
 "nbformat_minor": 5
}
