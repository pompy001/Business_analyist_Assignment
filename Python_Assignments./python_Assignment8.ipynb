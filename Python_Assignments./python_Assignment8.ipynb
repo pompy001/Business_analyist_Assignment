{
 "cells": [
  {
   "cell_type": "markdown",
   "id": "8ac90f0c",
   "metadata": {},
   "source": [
    "### 1. Python – Least Frequent Character in String"
   ]
  },
  {
   "cell_type": "code",
   "execution_count": 32,
   "id": "2352101d",
   "metadata": {},
   "outputs": [],
   "source": [
    "def leaststr(string):\n",
    "    d = {}\n",
    "    string = string.lower()\n",
    "    for i in string:\n",
    "        if i in d:\n",
    "            d[i]+=1\n",
    "        else:\n",
    "            d[i]=1\n",
    "    return min(d,key=d.get)\n",
    "    "
   ]
  },
  {
   "cell_type": "code",
   "execution_count": 33,
   "id": "fa8daafb",
   "metadata": {},
   "outputs": [
    {
     "data": {
      "text/plain": [
       "'k'"
      ]
     },
     "execution_count": 33,
     "metadata": {},
     "output_type": "execute_result"
    }
   ],
   "source": [
    "leaststr('Ankit Janbandhu')"
   ]
  },
  {
   "cell_type": "markdown",
   "id": "170f9e52",
   "metadata": {},
   "source": [
    "### 2. Python | Maximum frequency character in String"
   ]
  },
  {
   "cell_type": "code",
   "execution_count": 36,
   "id": "377a45b3",
   "metadata": {},
   "outputs": [],
   "source": [
    "def maxstr(string):\n",
    "    d = {}\n",
    "    string = string.lower()\n",
    "    for i in string:\n",
    "        if i in d:\n",
    "            d[i]+=1\n",
    "        else:\n",
    "            d[i]=1\n",
    "    return max(d,key=d.get)"
   ]
  },
  {
   "cell_type": "code",
   "execution_count": 37,
   "id": "16a7d485",
   "metadata": {},
   "outputs": [
    {
     "data": {
      "text/plain": [
       "'a'"
      ]
     },
     "execution_count": 37,
     "metadata": {},
     "output_type": "execute_result"
    }
   ],
   "source": [
    "maxstr('Ankit Janbandhu')"
   ]
  },
  {
   "cell_type": "markdown",
   "id": "5436cbf4",
   "metadata": {},
   "source": [
    "### 3. Python | Program to check if a string contains any special character"
   ]
  },
  {
   "cell_type": "code",
   "execution_count": 38,
   "id": "f3c35f42",
   "metadata": {},
   "outputs": [],
   "source": [
    "import re\n",
    "\n",
    "def checkspecial(string):\n",
    "    regex = re.compile('[@#$%^&*()_+!?><:;|]')\n",
    "    if regex.search(string)==False:\n",
    "        print(\"No special chracter present\")\n",
    "    else :\n",
    "        print(\"special character present\")"
   ]
  },
  {
   "cell_type": "code",
   "execution_count": 39,
   "id": "40fe83c8",
   "metadata": {},
   "outputs": [
    {
     "name": "stdout",
     "output_type": "stream",
     "text": [
      "special character present\n"
     ]
    }
   ],
   "source": [
    "checkspecial(\"Ankit@Janbandhu\")"
   ]
  },
  {
   "cell_type": "markdown",
   "id": "80235d31",
   "metadata": {},
   "source": [
    "### 4. Generating random strings until a given string is generated"
   ]
  },
  {
   "cell_type": "code",
   "execution_count": null,
   "id": "d85eea1a",
   "metadata": {},
   "outputs": [],
   "source": [
    "import string\n",
    "import random\n",
    "\n",
    "s1 = input(\"enter the string:\")\n",
    "n = len(s1)\n",
    "s2 = None\n",
    "char = string.digits+string.ascii_uppercase+string.ascii_lowercase\n",
    "\n",
    "c = 1\n",
    "while s1!=s2:\n",
    "    s2= ''.join(random.choice(char) for i in range(n))\n",
    "    c+=1\n",
    "    print(c,s2)"
   ]
  },
  {
   "cell_type": "markdown",
   "id": "63c41fe3",
   "metadata": {},
   "source": [
    "### 5. Find words which are greater than given length k"
   ]
  },
  {
   "cell_type": "code",
   "execution_count": 40,
   "id": "97bbd429",
   "metadata": {},
   "outputs": [],
   "source": [
    "def stringfind(string,k):\n",
    "    text = []\n",
    "    string = string.split(\" \")\n",
    "    for i in string:\n",
    "        if len(i)>k:\n",
    "            text.append(i)\n",
    "    return text"
   ]
  },
  {
   "cell_type": "code",
   "execution_count": 43,
   "id": "bf960d06",
   "metadata": {},
   "outputs": [
    {
     "data": {
      "text/plain": [
       "['Ankit', 'janbandhu', 'analyst']"
      ]
     },
     "execution_count": 43,
     "metadata": {},
     "output_type": "execute_result"
    }
   ],
   "source": [
    "stringfind(\"Ankit janbandhu is a Data analyst\",4)"
   ]
  },
  {
   "cell_type": "markdown",
   "id": "c1718df1",
   "metadata": {},
   "source": [
    "### 6. Python program for removing i-th character from a string"
   ]
  },
  {
   "cell_type": "code",
   "execution_count": 47,
   "id": "203c1767",
   "metadata": {},
   "outputs": [],
   "source": [
    "def removith(string,k):\n",
    "    string1 = \"\"\n",
    "    for i in range(len(string)):\n",
    "        if i ==k:\n",
    "            continue\n",
    "        else:\n",
    "            string1+=string[i]\n",
    "    return string1\n",
    "    "
   ]
  },
  {
   "cell_type": "code",
   "execution_count": 48,
   "id": "61236467",
   "metadata": {},
   "outputs": [
    {
     "data": {
      "text/plain": [
       "'anit janbandhu'"
      ]
     },
     "execution_count": 48,
     "metadata": {},
     "output_type": "execute_result"
    }
   ],
   "source": [
    "removith(\"ankit janbandhu\",2)"
   ]
  },
  {
   "cell_type": "markdown",
   "id": "3b73f768",
   "metadata": {},
   "source": [
    "### 7. Python program to split and join a string"
   ]
  },
  {
   "cell_type": "code",
   "execution_count": 50,
   "id": "1557fbf0",
   "metadata": {},
   "outputs": [],
   "source": [
    "string = \"Ankit is a Data Analyst\""
   ]
  },
  {
   "cell_type": "code",
   "execution_count": 52,
   "id": "dd4bcf4e",
   "metadata": {},
   "outputs": [
    {
     "data": {
      "text/plain": [
       "['Ankit', 'is', 'a', 'Data', 'Analyst']"
      ]
     },
     "execution_count": 52,
     "metadata": {},
     "output_type": "execute_result"
    }
   ],
   "source": [
    "slt = string.split(\" \")\n",
    "slt"
   ]
  },
  {
   "cell_type": "code",
   "execution_count": 55,
   "id": "bca360f2",
   "metadata": {},
   "outputs": [
    {
     "data": {
      "text/plain": [
       "'Ankit-is-a-Data-Analyst'"
      ]
     },
     "execution_count": 55,
     "metadata": {},
     "output_type": "execute_result"
    }
   ],
   "source": [
    "jon = \"-\".join(slt)\n",
    "jon"
   ]
  },
  {
   "cell_type": "markdown",
   "id": "beaef1c6",
   "metadata": {},
   "source": [
    "### 8. Python | Check if a given string is binary string or not "
   ]
  },
  {
   "cell_type": "code",
   "execution_count": 66,
   "id": "5ed259a1",
   "metadata": {},
   "outputs": [
    {
     "name": "stdout",
     "output_type": "stream",
     "text": [
      "StringA is not a binary string\n"
     ]
    }
   ],
   "source": [
    "stringA = \"001a\"\n",
    "\n",
    "b = '10'\n",
    "count = 0\n",
    "for char in stringA:\n",
    "    if char not in b:\n",
    "        count = 1\n",
    "#         print(char)\n",
    "        break\n",
    "    else:\n",
    "        pass\n",
    "if count:\n",
    "    print(\"StringA is not a binary string\")\n",
    "else:\n",
    "    print(\"StringA is a binary string\")"
   ]
  },
  {
   "cell_type": "markdown",
   "id": "6f4c4fbb",
   "metadata": {},
   "source": [
    "### 9. Python program to find uncommon words from two Strings"
   ]
  },
  {
   "cell_type": "code",
   "execution_count": 77,
   "id": "2b9f997f",
   "metadata": {},
   "outputs": [],
   "source": [
    "string1 = 'focus in your work'\n",
    "string2 = 'Believe in yourself'\n",
    "\n",
    "def uncommstr(string1,string2):\n",
    "    string1 = set(string1.split(\" \"))\n",
    "    string2 = set(string2.split(\" \"))\n",
    "    lst = string1 ^ string2\n",
    "    return lst"
   ]
  },
  {
   "cell_type": "code",
   "execution_count": 78,
   "id": "631de77d",
   "metadata": {},
   "outputs": [
    {
     "data": {
      "text/plain": [
       "{'Believe', 'focus', 'work', 'your', 'yourself'}"
      ]
     },
     "execution_count": 78,
     "metadata": {},
     "output_type": "execute_result"
    }
   ],
   "source": [
    "uncommstr(string1,string2)"
   ]
  },
  {
   "cell_type": "markdown",
   "id": "be4f518d",
   "metadata": {},
   "source": [
    "### 10. Python – Replace duplicate Occurrence in String"
   ]
  },
  {
   "cell_type": "code",
   "execution_count": 82,
   "id": "4ac130dd",
   "metadata": {},
   "outputs": [
    {
     "data": {
      "text/plain": [
       "'work on yourself the world will work on you'"
      ]
     },
     "execution_count": 82,
     "metadata": {},
     "output_type": "execute_result"
    }
   ],
   "source": [
    "string = \"focus on yourself the world will focus on you\"\n",
    "\n",
    "def removedup(string):\n",
    "    string1 = string.split(\" \")\n",
    "    d1 = {'focus': 'work'}\n",
    "    for i,x in enumerate(string1):\n",
    "        if x in d1:\n",
    "            string1[i]=d1[x]\n",
    "    return \" \".join(string1)\n",
    "            \n",
    "        \n",
    "        \n",
    "        \n",
    "removedup(string)\n",
    "        "
   ]
  },
  {
   "cell_type": "code",
   "execution_count": null,
   "id": "7319ec81",
   "metadata": {},
   "outputs": [],
   "source": []
  },
  {
   "cell_type": "code",
   "execution_count": null,
   "id": "6126729f",
   "metadata": {},
   "outputs": [],
   "source": []
  },
  {
   "cell_type": "code",
   "execution_count": null,
   "id": "37420714",
   "metadata": {},
   "outputs": [],
   "source": []
  }
 ],
 "metadata": {
  "kernelspec": {
   "display_name": "Python 3 (ipykernel)",
   "language": "python",
   "name": "python3"
  },
  "language_info": {
   "codemirror_mode": {
    "name": "ipython",
    "version": 3
   },
   "file_extension": ".py",
   "mimetype": "text/x-python",
   "name": "python",
   "nbconvert_exporter": "python",
   "pygments_lexer": "ipython3",
   "version": "3.9.7"
  }
 },
 "nbformat": 4,
 "nbformat_minor": 5
}
