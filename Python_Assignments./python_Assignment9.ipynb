{
 "cells": [
  {
   "cell_type": "markdown",
   "id": "0a0359af",
   "metadata": {},
   "source": [
    "### 1. Python – Replace multiple words with K"
   ]
  },
  {
   "cell_type": "code",
   "execution_count": 1,
   "id": "e40eb075",
   "metadata": {},
   "outputs": [
    {
     "name": "stdout",
     "output_type": "stream",
     "text": [
      "K , K and K are good friends\n"
     ]
    }
   ],
   "source": [
    "a = {\"ankit\": \"K\", \"milind\": \"K\", \"manoj\": \"K\"}\n",
    "string = \"ankit , milind and manoj are good friends\"\n",
    "lst = string.split(\" \")\n",
    "# print(lst)\n",
    "for i in range(len(lst)):\n",
    "    if lst[i] in a:\n",
    "        lst[i]=a.get(lst[i])\n",
    "print(\" \".join(lst))\n"
   ]
  },
  {
   "cell_type": "markdown",
   "id": "9de6818d",
   "metadata": {},
   "source": [
    "### 2. Python | Permutation of a given string using inbuilt function"
   ]
  },
  {
   "cell_type": "code",
   "execution_count": 2,
   "id": "5f2c42ec",
   "metadata": {},
   "outputs": [
    {
     "name": "stdout",
     "output_type": "stream",
     "text": [
      "ABC\n",
      "ACB\n",
      "BAC\n",
      "BCA\n",
      "CAB\n",
      "CBA\n"
     ]
    }
   ],
   "source": [
    "from itertools import permutations\n",
    "\n",
    "def allpermutation(str):\n",
    "    permulist= permutations(str)\n",
    "#     print(list(permulist))\n",
    "    for i in permulist:\n",
    "        print(\"\".join(i))\n",
    "\n",
    "allpermutation(\"ABC\")"
   ]
  },
  {
   "cell_type": "markdown",
   "id": "e83560be",
   "metadata": {},
   "source": [
    "### 3. Python | Check for URL in a String"
   ]
  },
  {
   "cell_type": "code",
   "execution_count": 3,
   "id": "52cc8c8c",
   "metadata": {},
   "outputs": [
    {
     "data": {
      "text/plain": [
       "['www.bringsurprises.com']"
      ]
     },
     "execution_count": 3,
     "metadata": {},
     "output_type": "execute_result"
    }
   ],
   "source": [
    "import re\n",
    "  \n",
    "def Find(string):\n",
    "  \n",
    "    # findall() has been used \n",
    "    # with valid conditions for urls in string\n",
    "    regex = r\"(?i)\\b((?:https?://|www\\d{0,3}[.]|[a-z0-9.\\-]+[.][a-z]{2,4}/)(?:[^\\s()<>]+|\\(([^\\s()<>]+|(\\([^\\s()<>]+\\)))*\\))+(?:\\(([^\\s()<>]+|(\\([^\\s()<>]+\\)))*\\)|[^\\s`!()\\[\\]{};:'\\\".,<>?«»“”‘’]))\"\n",
    "    url = re.findall(regex,string)  \n",
    "#     print(url)\n",
    "    return [x[0] for x in url]\n",
    "Find(\"my url is www.bringsurprises.com\")\n"
   ]
  },
  {
   "cell_type": "markdown",
   "id": "505c1e57",
   "metadata": {},
   "source": [
    "### 4. Execute a String of Code in Python"
   ]
  },
  {
   "cell_type": "code",
   "execution_count": 4,
   "id": "80fb3cbf",
   "metadata": {},
   "outputs": [
    {
     "name": "stdout",
     "output_type": "stream",
     "text": [
      "ankit\n"
     ]
    }
   ],
   "source": [
    "LOC = \"\"\"\n",
    "a = \"ankit\"\n",
    "print(a)\n",
    "\"\"\"\n",
    "exec(LOC)\n",
    "     \n"
   ]
  },
  {
   "cell_type": "markdown",
   "id": "3356b8c8",
   "metadata": {},
   "source": [
    "### 5. String slicing in Python to rotate a string"
   ]
  },
  {
   "cell_type": "code",
   "execution_count": 5,
   "id": "91af69e1",
   "metadata": {},
   "outputs": [
    {
     "name": "stdout",
     "output_type": "stream",
     "text": [
      "left rotation : nkita\n",
      "right rotation : tanki\n"
     ]
    }
   ],
   "source": [
    "def rotate(string,d):\n",
    "    lfirst = string[:d]\n",
    "    lsecond = string[d:]\n",
    "    rfirst = string[:len(string)-d]\n",
    "    rsecond = string[len(string)-d:]\n",
    "    print(f\"left rotation : {lsecond+lfirst}\")\n",
    "    print(f\"right rotation : {rsecond+rfirst}\")\n",
    "\n",
    "rotate(\"ankit\",1)\n"
   ]
  },
  {
   "cell_type": "markdown",
   "id": "a0e5dec9",
   "metadata": {},
   "source": [
    "### 6. String slicing in Python to check if a string can become empty by recursive deletion"
   ]
  },
  {
   "cell_type": "code",
   "execution_count": 6,
   "id": "d3325c89",
   "metadata": {},
   "outputs": [
    {
     "data": {
      "text/plain": [
       "False"
      ]
     },
     "execution_count": 6,
     "metadata": {},
     "output_type": "execute_result"
    }
   ],
   "source": [
    "a = \"ankitankit\"\n",
    "a =  \"ankitankita\"\n",
    "\n",
    "def checkempty(string,pattern):\n",
    "    \n",
    "    \n",
    "    \n",
    "    while len(string)!=0:\n",
    "        index = string.find(pattern)\n",
    "        string = string[:index]+string[index+len(pattern):]\n",
    "        if index == -1:\n",
    "            return False\n",
    "            \n",
    "    return True\n",
    "    \n",
    "\n",
    "checkempty(a,\"ankit\")"
   ]
  },
  {
   "cell_type": "markdown",
   "id": "913055d2",
   "metadata": {},
   "source": [
    "### 7. Python Counter| Find all duplicate characters in string"
   ]
  },
  {
   "cell_type": "code",
   "execution_count": 7,
   "id": "eb0db3b8",
   "metadata": {},
   "outputs": [
    {
     "name": "stdout",
     "output_type": "stream",
     "text": [
      "the duplicate character is a\n"
     ]
    }
   ],
   "source": [
    "def dupstring(string):\n",
    "    a = {}\n",
    "    for i in string:\n",
    "        if i in a:\n",
    "            a[i]+=1\n",
    "        else:\n",
    "            a[i]=1\n",
    "    for i in a:\n",
    "        if a.get(i)>1:\n",
    "            print(f\"the duplicate character is {i}\")\n",
    "\n",
    "dupstring(\"ankita\")\n",
    "        \n",
    "    "
   ]
  },
  {
   "cell_type": "markdown",
   "id": "a53052e2",
   "metadata": {},
   "source": [
    "### 8. Python – Replace all occurrences of a substring in a string"
   ]
  },
  {
   "cell_type": "code",
   "execution_count": 8,
   "id": "cc640673",
   "metadata": {},
   "outputs": [
    {
     "name": "stdout",
     "output_type": "stream",
     "text": [
      "i , me and myself are good friends\n"
     ]
    }
   ],
   "source": [
    "a = {\"ankit\": \"i\", \"milind\": \"me\", \"manoj\": \"myself\"}\n",
    "string = \"ankit , milind and manoj are good friends\"\n",
    "lst = string.split(\" \")\n",
    "# print(lst)\n",
    "for i in range(len(lst)):\n",
    "    if lst[i] in a:\n",
    "        lst[i]=a.get(lst[i])\n",
    "print(\" \".join(lst))"
   ]
  },
  {
   "cell_type": "markdown",
   "id": "50d7c18c",
   "metadata": {},
   "source": [
    "### 9. Python – Extract Unique values dictionary values"
   ]
  },
  {
   "cell_type": "code",
   "execution_count": 9,
   "id": "87da7a3f",
   "metadata": {},
   "outputs": [
    {
     "data": {
      "text/plain": [
       "['nokia', 'mi']"
      ]
     },
     "execution_count": 9,
     "metadata": {},
     "output_type": "execute_result"
    }
   ],
   "source": [
    "def uniqueval(d):\n",
    "    lst = []\n",
    "    for i in d.values():\n",
    "        if i not in lst:\n",
    "            lst.append(i)\n",
    "            \n",
    "    return lst\n",
    "\n",
    "d = {\"model230\":\"nokia\",\"model114\":\"mi\",\"model223\":\"nokia\",\"model339\":\"nokia\"}\n",
    "\n",
    "uniqueval(d)"
   ]
  },
  {
   "cell_type": "markdown",
   "id": "c9de21db",
   "metadata": {},
   "source": [
    "### 10. Python program to find the sum of all items in a dictionary"
   ]
  },
  {
   "cell_type": "code",
   "execution_count": 10,
   "id": "a430114c",
   "metadata": {},
   "outputs": [
    {
     "data": {
      "text/plain": [
       "14"
      ]
     },
     "execution_count": 10,
     "metadata": {},
     "output_type": "execute_result"
    }
   ],
   "source": [
    "def sumitem(d):\n",
    "    sum = 0\n",
    "    for i in d:\n",
    "        sum+=d.get(i)\n",
    "        \n",
    "    return sum\n",
    "        \n",
    "d = {\"samsung\":2,\"apple\":3,\"nokia\":5,\"mi\":4}\n",
    "\n",
    "sumitem(d)"
   ]
  },
  {
   "cell_type": "code",
   "execution_count": null,
   "id": "f4b37531",
   "metadata": {},
   "outputs": [],
   "source": []
  }
 ],
 "metadata": {
  "kernelspec": {
   "display_name": "Python 3 (ipykernel)",
   "language": "python",
   "name": "python3"
  },
  "language_info": {
   "codemirror_mode": {
    "name": "ipython",
    "version": 3
   },
   "file_extension": ".py",
   "mimetype": "text/x-python",
   "name": "python",
   "nbconvert_exporter": "python",
   "pygments_lexer": "ipython3",
   "version": "3.9.7"
  }
 },
 "nbformat": 4,
 "nbformat_minor": 5
}
