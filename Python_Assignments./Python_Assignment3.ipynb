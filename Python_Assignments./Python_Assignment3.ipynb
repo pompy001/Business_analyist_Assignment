{
 "cells": [
  {
   "cell_type": "markdown",
   "id": "d83fb313",
   "metadata": {},
   "source": [
    "## 1. Python Program for Find reminder of array multiplication divided by n"
   ]
  },
  {
   "cell_type": "code",
   "execution_count": 9,
   "id": "fbcfc91d",
   "metadata": {},
   "outputs": [],
   "source": [
    "def arrreminder(arr,n):\n",
    "    mul = 1\n",
    "    for i in arr:\n",
    "        mul*=i\n",
    "    return mul % n"
   ]
  },
  {
   "cell_type": "code",
   "execution_count": 10,
   "id": "49757d56",
   "metadata": {},
   "outputs": [
    {
     "data": {
      "text/plain": [
       "1"
      ]
     },
     "execution_count": 10,
     "metadata": {},
     "output_type": "execute_result"
    }
   ],
   "source": [
    "arrreminder([1,2,3],5)"
   ]
  },
  {
   "cell_type": "markdown",
   "id": "6885b834",
   "metadata": {},
   "source": [
    "## 2. Python Program to check if given array is Monotonic"
   ]
  },
  {
   "cell_type": "code",
   "execution_count": 97,
   "id": "33f3613b",
   "metadata": {},
   "outputs": [],
   "source": [
    "def mono(arr):\n",
    "    flag =0\n",
    "    if arr[0]<arr[1]:\n",
    "        for i in range(0,len(arr)-1):\n",
    "            if arr[i]<arr[i+1]:\n",
    "                flag+=1\n",
    "        if flag ==(len(arr)-1):\n",
    "            return print(\"it is inc monotonic\")\n",
    "        else:\n",
    "            return print(\"it is not monotonic\")\n",
    "    elif arr[0]>arr[1]:\n",
    "        for i in range(0,len(arr)-1):\n",
    "            if arr[i]>arr[i+1]:\n",
    "                flag+=1\n",
    "        if flag ==(len(arr)-1):\n",
    "            return print(\"it is dec monotonic\")\n",
    "        else:\n",
    "            return print(\"it is not monotonic\")\n",
    "    \n",
    "                \n",
    "            \n",
    "            \n",
    "            "
   ]
  },
  {
   "cell_type": "code",
   "execution_count": 99,
   "id": "fe67ea1b",
   "metadata": {},
   "outputs": [
    {
     "name": "stdout",
     "output_type": "stream",
     "text": [
      "it is not monotonic\n"
     ]
    }
   ],
   "source": [
    "mono([9,8,11,3])"
   ]
  },
  {
   "cell_type": "markdown",
   "id": "e3099181",
   "metadata": {},
   "source": [
    "## 3. Python program to interchange first and last elements in a list"
   ]
  },
  {
   "cell_type": "code",
   "execution_count": 30,
   "id": "f0950489",
   "metadata": {},
   "outputs": [],
   "source": [
    "def interlist(list1):\n",
    "    list1[0],list1[-1]=list1[-1],list1[0]\n",
    "    return list1"
   ]
  },
  {
   "cell_type": "code",
   "execution_count": 31,
   "id": "3e6995d9",
   "metadata": {},
   "outputs": [
    {
     "data": {
      "text/plain": [
       "[4, 2, 3, 1]"
      ]
     },
     "execution_count": 31,
     "metadata": {},
     "output_type": "execute_result"
    }
   ],
   "source": [
    "interlist([1,2,3,4])"
   ]
  },
  {
   "cell_type": "markdown",
   "id": "e82b1999",
   "metadata": {},
   "source": [
    "## 4. Python program to swap two elements in a list"
   ]
  },
  {
   "cell_type": "code",
   "execution_count": 33,
   "id": "bcb713d3",
   "metadata": {},
   "outputs": [],
   "source": [
    "def swaplist(l1,pos1,pos2):\n",
    "    l1[pos1],l1[pos2]=l1[pos2],l1[pos1]\n",
    "    return l1"
   ]
  },
  {
   "cell_type": "code",
   "execution_count": 34,
   "id": "da3c3be7",
   "metadata": {},
   "outputs": [
    {
     "data": {
      "text/plain": [
       "[3, 2, 1, 4]"
      ]
     },
     "execution_count": 34,
     "metadata": {},
     "output_type": "execute_result"
    }
   ],
   "source": [
    "swaplist([1,2,3,4],0,2)"
   ]
  },
  {
   "cell_type": "markdown",
   "id": "d90e8da9",
   "metadata": {},
   "source": [
    "## 5. write a program to find length of list"
   ]
  },
  {
   "cell_type": "code",
   "execution_count": 29,
   "id": "bd21c36e",
   "metadata": {},
   "outputs": [
    {
     "name": "stdout",
     "output_type": "stream",
     "text": [
      "the length of the list 5\n"
     ]
    }
   ],
   "source": [
    "l1 = [1,2,3,4,5]\n",
    "print(f\"the length of the list {len(l1)}\")"
   ]
  },
  {
   "cell_type": "markdown",
   "id": "b129c240",
   "metadata": {},
   "source": [
    "## 6. write a program to check if element exists in list"
   ]
  },
  {
   "cell_type": "code",
   "execution_count": 59,
   "id": "1efee6dc",
   "metadata": {},
   "outputs": [],
   "source": [
    "# def find(l1,n):\n",
    "#     try:\n",
    "#         l1.index(n)\n",
    "#         print(\"the number is preset\")\n",
    "#     except:\n",
    "#         print(\"the number is not present\")\n",
    "\n",
    "def find(l1,n):\n",
    "    for i in l1:\n",
    "        if i==n:\n",
    "            return print(\"the number is present\")\n",
    "            \n",
    "    else:\n",
    "        print(\"the number is not present\")\n",
    "        "
   ]
  },
  {
   "cell_type": "code",
   "execution_count": 64,
   "id": "6d6bdba2",
   "metadata": {},
   "outputs": [
    {
     "name": "stdout",
     "output_type": "stream",
     "text": [
      "the number is not present\n"
     ]
    }
   ],
   "source": [
    "find([1,2,3,4],8)"
   ]
  },
  {
   "cell_type": "markdown",
   "id": "54cfe781",
   "metadata": {},
   "source": [
    "## 7.write a program to clear a list in Python"
   ]
  },
  {
   "cell_type": "code",
   "execution_count": 65,
   "id": "36c87e06",
   "metadata": {},
   "outputs": [
    {
     "name": "stdout",
     "output_type": "stream",
     "text": [
      "[]\n"
     ]
    }
   ],
   "source": [
    "l1 = [1,2,3,4,5]\n",
    "l1.clear()\n",
    "print(l1)"
   ]
  },
  {
   "cell_type": "markdown",
   "id": "2e1adcbe",
   "metadata": {},
   "source": [
    "## 8. write a program to Reversing a List"
   ]
  },
  {
   "cell_type": "code",
   "execution_count": 67,
   "id": "3920cc55",
   "metadata": {},
   "outputs": [
    {
     "name": "stdout",
     "output_type": "stream",
     "text": [
      "[6, 5, 4, 3, 2, 1]\n"
     ]
    }
   ],
   "source": [
    "l1 = [1,2,3,4,5,6]\n",
    "l1 = l1[::-1]\n",
    "print(l1)"
   ]
  },
  {
   "cell_type": "markdown",
   "id": "3669f92a",
   "metadata": {},
   "source": [
    "## 9. write a program to find sum of elements in list"
   ]
  },
  {
   "cell_type": "code",
   "execution_count": 71,
   "id": "2e8cf1c0",
   "metadata": {},
   "outputs": [
    {
     "data": {
      "text/plain": [
       "15"
      ]
     },
     "execution_count": 71,
     "metadata": {},
     "output_type": "execute_result"
    }
   ],
   "source": [
    "sum([1,2,3,4,5])"
   ]
  },
  {
   "cell_type": "markdown",
   "id": "f6edbcc7",
   "metadata": {},
   "source": [
    "## 10. write a program to Multiply all numbers in the list"
   ]
  },
  {
   "cell_type": "code",
   "execution_count": 72,
   "id": "5a72d5bf",
   "metadata": {},
   "outputs": [],
   "source": [
    "def mullist(list):\n",
    "    mul = 1\n",
    "    for i in list:\n",
    "        mul*=i\n",
    "    return mul\n"
   ]
  },
  {
   "cell_type": "code",
   "execution_count": 104,
   "id": "1fc12214",
   "metadata": {},
   "outputs": [
    {
     "data": {
      "text/plain": [
       "6"
      ]
     },
     "execution_count": 104,
     "metadata": {},
     "output_type": "execute_result"
    }
   ],
   "source": [
    "mullist([1,2,3])"
   ]
  },
  {
   "cell_type": "code",
   "execution_count": 119,
   "id": "ee55ea9b",
   "metadata": {},
   "outputs": [
    {
     "name": "stdout",
     "output_type": "stream",
     "text": [
      "aa\n",
      "bb\n",
      "cc\n"
     ]
    }
   ],
   "source": [
    "l1 = [\"a\",\"b\",\"c\"]\n",
    "l2= [\"a\",\"b\",\"c\"]\n",
    "str = \"\"\n",
    "for i in range(len(l1)):\n",
    "    str=l1[i]+l2[i]\n",
    "    print(str)\n",
    "\n",
    "    \n",
    "    "
   ]
  }
 ],
 "metadata": {
  "kernelspec": {
   "display_name": "Python 3 (ipykernel)",
   "language": "python",
   "name": "python3"
  },
  "language_info": {
   "codemirror_mode": {
    "name": "ipython",
    "version": 3
   },
   "file_extension": ".py",
   "mimetype": "text/x-python",
   "name": "python",
   "nbconvert_exporter": "python",
   "pygments_lexer": "ipython3",
   "version": "3.9.7"
  }
 },
 "nbformat": 4,
 "nbformat_minor": 5
}
