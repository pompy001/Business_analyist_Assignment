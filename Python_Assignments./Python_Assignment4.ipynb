{
 "cells": [
  {
   "cell_type": "markdown",
   "id": "9d011016",
   "metadata": {},
   "source": [
    "## 1. Python program to find smallest number in a list"
   ]
  },
  {
   "cell_type": "code",
   "execution_count": 2,
   "id": "5ad87731",
   "metadata": {},
   "outputs": [
    {
     "data": {
      "text/plain": [
       "1"
      ]
     },
     "execution_count": 2,
     "metadata": {},
     "output_type": "execute_result"
    }
   ],
   "source": [
    "l1 = [1, 2, 3, 4, 10 ,13]\n",
    "min(l1)"
   ]
  },
  {
   "cell_type": "markdown",
   "id": "9994f8c2",
   "metadata": {},
   "source": [
    "## 2. Python program to find largest number in a list"
   ]
  },
  {
   "cell_type": "code",
   "execution_count": 3,
   "id": "6780ead2",
   "metadata": {},
   "outputs": [
    {
     "data": {
      "text/plain": [
       "13"
      ]
     },
     "execution_count": 3,
     "metadata": {},
     "output_type": "execute_result"
    }
   ],
   "source": [
    "l1 = [1, 2, 3, 4, 10 ,13]\n",
    "max(l1)"
   ]
  },
  {
   "cell_type": "markdown",
   "id": "a8de69e3",
   "metadata": {},
   "source": [
    "## 3. Python program to find second largest number in a list"
   ]
  },
  {
   "cell_type": "code",
   "execution_count": 4,
   "id": "50c3e275",
   "metadata": {},
   "outputs": [],
   "source": [
    "def maxlist(l1,n):\n",
    "    l1 = list(set(l1))\n",
    "    maxl1 = []\n",
    "    for i in range(1,n+1):\n",
    "        maxl1.append(l1.pop())\n",
    "    return maxl1\n",
    "    \n",
    "    \n",
    "    "
   ]
  },
  {
   "cell_type": "code",
   "execution_count": 5,
   "id": "bf20c2cd",
   "metadata": {},
   "outputs": [
    {
     "data": {
      "text/plain": [
       "[6, 5]"
      ]
     },
     "execution_count": 5,
     "metadata": {},
     "output_type": "execute_result"
    }
   ],
   "source": [
    "maxlist([1,2,3,4,5,6],2)"
   ]
  },
  {
   "cell_type": "markdown",
   "id": "b077bbf4",
   "metadata": {},
   "source": [
    "## 4. Python program to find N largest elements from a list"
   ]
  },
  {
   "cell_type": "code",
   "execution_count": 6,
   "id": "b97115d4",
   "metadata": {},
   "outputs": [],
   "source": [
    "def maxlist(l1,n):\n",
    "    l1 = list(set(l1))\n",
    "    maxl1 = []\n",
    "    for i in range(1,n+1):\n",
    "        maxl1.append(l1.pop())\n",
    "    return maxl1"
   ]
  },
  {
   "cell_type": "code",
   "execution_count": 7,
   "id": "233a6d3f",
   "metadata": {},
   "outputs": [
    {
     "data": {
      "text/plain": [
       "[11, 10, 7]"
      ]
     },
     "execution_count": 7,
     "metadata": {},
     "output_type": "execute_result"
    }
   ],
   "source": [
    "maxlist([2,6,7,10,3,11],3)"
   ]
  },
  {
   "cell_type": "markdown",
   "id": "35b055e8",
   "metadata": {},
   "source": [
    "## 5. Python program to print even numbers in a list"
   ]
  },
  {
   "cell_type": "code",
   "execution_count": 8,
   "id": "10bf6e03",
   "metadata": {},
   "outputs": [],
   "source": [
    "def evenlist(numb):\n",
    "    evenl1 = []\n",
    "    for i in numb:\n",
    "        if i%2==0:\n",
    "            evenl1.append(i)\n",
    "    return evenl1"
   ]
  },
  {
   "cell_type": "code",
   "execution_count": 9,
   "id": "efb980ce",
   "metadata": {},
   "outputs": [
    {
     "data": {
      "text/plain": [
       "[2, 4, 8, 10]"
      ]
     },
     "execution_count": 9,
     "metadata": {},
     "output_type": "execute_result"
    }
   ],
   "source": [
    "evenlist([1,2,4,8,10,11])"
   ]
  },
  {
   "cell_type": "markdown",
   "id": "34546852",
   "metadata": {},
   "source": [
    "## 6. Python program to print odd numbers in a List"
   ]
  },
  {
   "cell_type": "code",
   "execution_count": 10,
   "id": "bec71055",
   "metadata": {},
   "outputs": [],
   "source": [
    "def oddlist(numb):\n",
    "    oddl1 = []\n",
    "    for i in numb:\n",
    "        if i%2!=0:\n",
    "            oddl1.append(i)\n",
    "    return oddl1"
   ]
  },
  {
   "cell_type": "code",
   "execution_count": 11,
   "id": "2950e9f6",
   "metadata": {},
   "outputs": [
    {
     "data": {
      "text/plain": [
       "[1, 5]"
      ]
     },
     "execution_count": 11,
     "metadata": {},
     "output_type": "execute_result"
    }
   ],
   "source": [
    "oddlist([1,2,8,10,12,5])"
   ]
  },
  {
   "cell_type": "markdown",
   "id": "18b8c623",
   "metadata": {},
   "source": [
    "## 7. Python program to print all even numbers in a range"
   ]
  },
  {
   "cell_type": "code",
   "execution_count": 12,
   "id": "8f325a51",
   "metadata": {},
   "outputs": [],
   "source": [
    "def evennumb(numb1, numb2):\n",
    "    even = []\n",
    "    while numb1<=numb2:\n",
    "        if numb1%2==0:\n",
    "            even.append(numb1)\n",
    "        numb1+=1\n",
    "    return even"
   ]
  },
  {
   "cell_type": "code",
   "execution_count": 13,
   "id": "84a3546d",
   "metadata": {},
   "outputs": [
    {
     "data": {
      "text/plain": [
       "[2, 4, 6, 8, 10]"
      ]
     },
     "execution_count": 13,
     "metadata": {},
     "output_type": "execute_result"
    }
   ],
   "source": [
    "evennumb(1,10)"
   ]
  },
  {
   "cell_type": "markdown",
   "id": "d39c0b25",
   "metadata": {},
   "source": [
    "## 8. Python program to print all odd numbers in a range"
   ]
  },
  {
   "cell_type": "code",
   "execution_count": 14,
   "id": "9f0440b6",
   "metadata": {},
   "outputs": [],
   "source": [
    "def oddnumb(numb1, numb2):\n",
    "    odd = []\n",
    "    while numb1<=numb2:\n",
    "        if numb1%2!=0:\n",
    "            odd.append(numb1)\n",
    "        numb1+=1\n",
    "    return odd"
   ]
  },
  {
   "cell_type": "code",
   "execution_count": 15,
   "id": "099801c1",
   "metadata": {},
   "outputs": [
    {
     "data": {
      "text/plain": [
       "[1, 3, 5, 7, 9]"
      ]
     },
     "execution_count": 15,
     "metadata": {},
     "output_type": "execute_result"
    }
   ],
   "source": [
    "oddnumb(1,10)"
   ]
  },
  {
   "cell_type": "markdown",
   "id": "a49bee50",
   "metadata": {},
   "source": [
    "## 9. Python program to print positive numbers in a list"
   ]
  },
  {
   "cell_type": "code",
   "execution_count": 16,
   "id": "724edcaf",
   "metadata": {},
   "outputs": [],
   "source": [
    "def positive(numb):\n",
    "    pos = []\n",
    "    for i in numb:\n",
    "        if i>0:\n",
    "            pos.append(i)\n",
    "    return pos"
   ]
  },
  {
   "cell_type": "code",
   "execution_count": 17,
   "id": "0b2aa0a5",
   "metadata": {},
   "outputs": [
    {
     "data": {
      "text/plain": [
       "[1, 2, 3, 4]"
      ]
     },
     "execution_count": 17,
     "metadata": {},
     "output_type": "execute_result"
    }
   ],
   "source": [
    "positive([1,2,3,4,-1,-5])"
   ]
  },
  {
   "cell_type": "markdown",
   "id": "aab98bd4",
   "metadata": {},
   "source": [
    "## 10 . Python program to print negative numbers in a list"
   ]
  },
  {
   "cell_type": "code",
   "execution_count": 18,
   "id": "e62a8081",
   "metadata": {},
   "outputs": [],
   "source": [
    "def negative(numb):\n",
    "    neg = []\n",
    "    for i in numb:\n",
    "        if i<0:\n",
    "            neg.append(i)\n",
    "    return neg"
   ]
  },
  {
   "cell_type": "code",
   "execution_count": 19,
   "id": "a45cfcd0",
   "metadata": {},
   "outputs": [
    {
     "data": {
      "text/plain": [
       "[-1, -2, -3]"
      ]
     },
     "execution_count": 19,
     "metadata": {},
     "output_type": "execute_result"
    }
   ],
   "source": [
    "negative([-1,-2,-3,2,3,45])"
   ]
  },
  {
   "cell_type": "markdown",
   "id": "64fc27e8",
   "metadata": {},
   "source": [
    "## 11 . Python program to print all positive numbers in a range"
   ]
  },
  {
   "cell_type": "code",
   "execution_count": 20,
   "id": "0a516fb0",
   "metadata": {},
   "outputs": [],
   "source": [
    "def positiverange(numb1,numb2):\n",
    "    pos = []\n",
    "    while numb1<=numb2:\n",
    "        if numb1>0:\n",
    "            pos.append(numb1)\n",
    "        numb1+=1\n",
    "    return pos"
   ]
  },
  {
   "cell_type": "code",
   "execution_count": 21,
   "id": "9035a4bd",
   "metadata": {},
   "outputs": [
    {
     "data": {
      "text/plain": [
       "[1, 2, 3, 4, 5, 6, 7, 8, 9, 10, 11]"
      ]
     },
     "execution_count": 21,
     "metadata": {},
     "output_type": "execute_result"
    }
   ],
   "source": [
    "positiverange(-11,11)"
   ]
  },
  {
   "cell_type": "code",
   "execution_count": null,
   "id": "d49a0d31",
   "metadata": {},
   "outputs": [],
   "source": []
  }
 ],
 "metadata": {
  "kernelspec": {
   "display_name": "Python 3 (ipykernel)",
   "language": "python",
   "name": "python3"
  },
  "language_info": {
   "codemirror_mode": {
    "name": "ipython",
    "version": 3
   },
   "file_extension": ".py",
   "mimetype": "text/x-python",
   "name": "python",
   "nbconvert_exporter": "python",
   "pygments_lexer": "ipython3",
   "version": "3.9.7"
  }
 },
 "nbformat": 4,
 "nbformat_minor": 5
}
