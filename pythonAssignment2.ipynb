{
 "cells": [
  {
   "cell_type": "markdown",
   "id": "caad6ac6",
   "metadata": {},
   "source": [
    "## 1.Python Program for n-th Fibonacci number"
   ]
  },
  {
   "cell_type": "code",
   "execution_count": 2,
   "id": "6a66bbd7",
   "metadata": {},
   "outputs": [],
   "source": [
    "def fibo(n):\n",
    "    if n==1:\n",
    "        return 1\n",
    "    else:\n",
    "        return n+fibo(n-1)"
   ]
  },
  {
   "cell_type": "code",
   "execution_count": 4,
   "id": "556eb313",
   "metadata": {},
   "outputs": [
    {
     "data": {
      "text/plain": [
       "10"
      ]
     },
     "execution_count": 4,
     "metadata": {},
     "output_type": "execute_result"
    }
   ],
   "source": [
    "fibo(4)"
   ]
  },
  {
   "cell_type": "markdown",
   "id": "ab96ba84",
   "metadata": {},
   "source": [
    "## 2. Python Program for How to check if a given number is Fibonacci number?"
   ]
  },
  {
   "cell_type": "code",
   "execution_count": 5,
   "id": "9b58b260",
   "metadata": {},
   "outputs": [],
   "source": [
    "from math import sqrt\n",
    "def isperfectsquare(x):\n",
    "    s = int(sqrt(x))\n",
    "    if s*s==x:\n",
    "        return True\n",
    "    else:\n",
    "        return False\n",
    "\n",
    "def checkfibo(n):\n",
    "    if isperfectsquare((5*n**2)+4) or isperfectsquare((5*n**2)-4):\n",
    "        return True\n",
    "    else:\n",
    "        return False"
   ]
  },
  {
   "cell_type": "code",
   "execution_count": 8,
   "id": "a9ac56a3",
   "metadata": {},
   "outputs": [
    {
     "data": {
      "text/plain": [
       "False"
      ]
     },
     "execution_count": 8,
     "metadata": {},
     "output_type": "execute_result"
    }
   ],
   "source": [
    "checkfibo(12)"
   ]
  },
  {
   "cell_type": "markdown",
   "id": "dd0b7422",
   "metadata": {},
   "source": [
    "## 3. Python Program for n\\’th multiple of a number in Fibonacci Series"
   ]
  },
  {
   "cell_type": "code",
   "execution_count": 43,
   "id": "d2558ddd",
   "metadata": {},
   "outputs": [],
   "source": [
    "def checkfibo(k,n):\n",
    "    f1 = 0\n",
    "    f2 = 1\n",
    "    i = 2\n",
    "    while i>0:\n",
    "        f3 = f1+f2\n",
    "        f1 = f2\n",
    "        f2 = f3\n",
    "        if f2 % k ==0:\n",
    "            return n*i\n",
    "        i+=1\n",
    "    \n",
    "    \n",
    "        "
   ]
  },
  {
   "cell_type": "code",
   "execution_count": 44,
   "id": "8ee9f39b",
   "metadata": {},
   "outputs": [
    {
     "data": {
      "text/plain": [
       "9"
      ]
     },
     "execution_count": 44,
     "metadata": {},
     "output_type": "execute_result"
    }
   ],
   "source": [
    "checkfibo(2,3)"
   ]
  },
  {
   "cell_type": "markdown",
   "id": "30488a5c",
   "metadata": {},
   "source": [
    "## 4. Program to print ASCII Value of a character"
   ]
  },
  {
   "cell_type": "code",
   "execution_count": 33,
   "id": "c01cef49",
   "metadata": {},
   "outputs": [
    {
     "name": "stdout",
     "output_type": "stream",
     "text": [
      "a\n",
      "the ascii value is 97\n"
     ]
    }
   ],
   "source": [
    "a =input()\n",
    "print(f\"the ascii value is {ord(a)}\")\n"
   ]
  },
  {
   "cell_type": "markdown",
   "id": "ad834164",
   "metadata": {},
   "source": [
    "## 5. Python Program for Sum of squares of first n natural numbers"
   ]
  },
  {
   "cell_type": "code",
   "execution_count": 14,
   "id": "c708e734",
   "metadata": {},
   "outputs": [],
   "source": [
    "def sumsquare(n):\n",
    "    sum =0\n",
    "    for i in range(1,n+1):\n",
    "        sum+=i**2\n",
    "    return sum\n",
    "        "
   ]
  },
  {
   "cell_type": "code",
   "execution_count": 16,
   "id": "84dc8896",
   "metadata": {},
   "outputs": [
    {
     "data": {
      "text/plain": [
       "55"
      ]
     },
     "execution_count": 16,
     "metadata": {},
     "output_type": "execute_result"
    }
   ],
   "source": [
    "sumsquare(5)"
   ]
  },
  {
   "cell_type": "markdown",
   "id": "e193eefc",
   "metadata": {},
   "source": [
    "## 6. Python Program for cube sum of first n natural numbers\n"
   ]
  },
  {
   "cell_type": "code",
   "execution_count": 18,
   "id": "3364af17",
   "metadata": {},
   "outputs": [],
   "source": [
    "def cubsquare(n):\n",
    "    sum=0\n",
    "    for i in range(1,n+1):\n",
    "        sum+=i*i*i\n",
    "    return sum"
   ]
  },
  {
   "cell_type": "code",
   "execution_count": 19,
   "id": "fa96c582",
   "metadata": {},
   "outputs": [
    {
     "data": {
      "text/plain": [
       "36"
      ]
     },
     "execution_count": 19,
     "metadata": {},
     "output_type": "execute_result"
    }
   ],
   "source": [
    "cubsquare(3)"
   ]
  },
  {
   "cell_type": "markdown",
   "id": "65d22ae2",
   "metadata": {},
   "source": [
    "## 7. Python Program to find sum of array"
   ]
  },
  {
   "cell_type": "code",
   "execution_count": 23,
   "id": "c67c50a6",
   "metadata": {},
   "outputs": [],
   "source": [
    "def sumarr(numb):\n",
    "    sum = 0\n",
    "    l = numb \n",
    "    for i in range(0,len(l)):\n",
    "        sum+=l[i]\n",
    "    return sum    "
   ]
  },
  {
   "cell_type": "code",
   "execution_count": 24,
   "id": "ec3fcfa3",
   "metadata": {},
   "outputs": [
    {
     "data": {
      "text/plain": [
       "10"
      ]
     },
     "execution_count": 24,
     "metadata": {},
     "output_type": "execute_result"
    }
   ],
   "source": [
    "sumarr([1,2,3,4])"
   ]
  },
  {
   "cell_type": "markdown",
   "id": "76906344",
   "metadata": {},
   "source": [
    "## 8. Python Program to find largest element in an array"
   ]
  },
  {
   "cell_type": "code",
   "execution_count": 27,
   "id": "e96ce5e3",
   "metadata": {},
   "outputs": [
    {
     "data": {
      "text/plain": [
       "6"
      ]
     },
     "execution_count": 27,
     "metadata": {},
     "output_type": "execute_result"
    }
   ],
   "source": [
    "l = [1,2,3,4,5,6]\n",
    "max(l)"
   ]
  },
  {
   "cell_type": "markdown",
   "id": "0f7dd5db",
   "metadata": {},
   "source": [
    "## 9. Python Program for array rotation"
   ]
  },
  {
   "cell_type": "code",
   "execution_count": 25,
   "id": "57cd1142",
   "metadata": {},
   "outputs": [],
   "source": [
    "def rotatearrleft(numb,d):\n",
    "    for i in range(1,d+1):\n",
    "        rotateone(numb)\n",
    "    return numb\n",
    "    \n",
    "       \n",
    "    \n",
    "def rotateone(numb):\n",
    "    temp = numb[0]\n",
    "    for i in range(0,len(numb)-1):\n",
    "        numb[i]=numb[i+1]\n",
    "    numb[len(numb)-1]= temp\n",
    "    return numb\n",
    "\n"
   ]
  },
  {
   "cell_type": "code",
   "execution_count": 26,
   "id": "3f356b79",
   "metadata": {},
   "outputs": [
    {
     "data": {
      "text/plain": [
       "[3, 1, 2]"
      ]
     },
     "execution_count": 26,
     "metadata": {},
     "output_type": "execute_result"
    }
   ],
   "source": [
    "rotatearrleft([1,2,3],2)"
   ]
  },
  {
   "cell_type": "markdown",
   "id": "a694d6e2",
   "metadata": {},
   "source": [
    "## 10. Python Program for Reversal algorithm for array rotation"
   ]
  },
  {
   "cell_type": "code",
   "execution_count": 23,
   "id": "5e371b2e",
   "metadata": {},
   "outputs": [],
   "source": [
    "def rotatearrright(numb,d):\n",
    "    for i in range(1,d+1):\n",
    "        rotateone(numb)\n",
    "    return numb\n",
    "    \n",
    "       \n",
    "    \n",
    "def rotateone(numb):\n",
    "    temp = numb[-1]\n",
    "    temp2=numb[:]\n",
    "    for i in range(0,len(numb)-1):\n",
    "        numb[i+1]=temp2[i]\n",
    "    numb[0]= temp\n",
    "    return numb\n",
    "\n",
    "# rotateone([1,2,3,4])"
   ]
  },
  {
   "cell_type": "code",
   "execution_count": 24,
   "id": "6f8096ce",
   "metadata": {},
   "outputs": [
    {
     "data": {
      "text/plain": [
       "[2, 3, 1]"
      ]
     },
     "execution_count": 24,
     "metadata": {},
     "output_type": "execute_result"
    }
   ],
   "source": [
    "rotatearrright([1,2,3],2)"
   ]
  },
  {
   "cell_type": "markdown",
   "id": "dd278e99",
   "metadata": {},
   "source": [
    "## 11. Python Program to Split the array and add the first part to the end"
   ]
  },
  {
   "cell_type": "code",
   "execution_count": 40,
   "id": "8d97a55a",
   "metadata": {},
   "outputs": [],
   "source": [
    "def splitarr(numb,n):\n",
    "    for i in range(0,n):\n",
    "        firsth = numb.pop(0)\n",
    "        numb.append(firsth)\n",
    "    return numb\n"
   ]
  },
  {
   "cell_type": "code",
   "execution_count": 42,
   "id": "d730328d",
   "metadata": {},
   "outputs": [
    {
     "data": {
      "text/plain": [
       "[4, 1, 2, 3]"
      ]
     },
     "execution_count": 42,
     "metadata": {},
     "output_type": "execute_result"
    }
   ],
   "source": [
    "splitarr([1,2,3,4],3)"
   ]
  }
 ],
 "metadata": {
  "kernelspec": {
   "display_name": "Python 3 (ipykernel)",
   "language": "python",
   "name": "python3"
  },
  "language_info": {
   "codemirror_mode": {
    "name": "ipython",
    "version": 3
   },
   "file_extension": ".py",
   "mimetype": "text/x-python",
   "name": "python",
   "nbconvert_exporter": "python",
   "pygments_lexer": "ipython3",
   "version": "3.9.7"
  }
 },
 "nbformat": 4,
 "nbformat_minor": 5
}
