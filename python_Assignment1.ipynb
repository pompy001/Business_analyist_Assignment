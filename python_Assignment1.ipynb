{
 "cells": [
  {
   "cell_type": "markdown",
   "id": "8f01720c",
   "metadata": {},
   "source": [
    "### 1.\tWrite a Python program to find those numbers which are divisible by 7 and multiple of 5, between 1500 and 2700 (both included)\n"
   ]
  },
  {
   "cell_type": "code",
   "execution_count": 4,
   "id": "0d84ce8d",
   "metadata": {},
   "outputs": [],
   "source": [
    "def divchecker(n1,n2):\n",
    "    numb = []\n",
    "    while n1<=n2:\n",
    "        if n1 % 7 ==0 and n1 % 5 ==0:\n",
    "            numb.append(n1)\n",
    "        n1+=1\n",
    "    return numb\n",
    "    "
   ]
  },
  {
   "cell_type": "code",
   "execution_count": 5,
   "id": "261c3455",
   "metadata": {},
   "outputs": [
    {
     "data": {
      "text/plain": [
       "[1505,\n",
       " 1540,\n",
       " 1575,\n",
       " 1610,\n",
       " 1645,\n",
       " 1680,\n",
       " 1715,\n",
       " 1750,\n",
       " 1785,\n",
       " 1820,\n",
       " 1855,\n",
       " 1890,\n",
       " 1925,\n",
       " 1960,\n",
       " 1995,\n",
       " 2030,\n",
       " 2065,\n",
       " 2100,\n",
       " 2135,\n",
       " 2170,\n",
       " 2205,\n",
       " 2240,\n",
       " 2275,\n",
       " 2310,\n",
       " 2345,\n",
       " 2380,\n",
       " 2415,\n",
       " 2450,\n",
       " 2485,\n",
       " 2520,\n",
       " 2555,\n",
       " 2590,\n",
       " 2625,\n",
       " 2660,\n",
       " 2695]"
      ]
     },
     "execution_count": 5,
     "metadata": {},
     "output_type": "execute_result"
    }
   ],
   "source": [
    "divchecker(1500,2700)"
   ]
  },
  {
   "cell_type": "markdown",
   "id": "c3f96d8a",
   "metadata": {},
   "source": [
    "## 2. Python program to add two numbers"
   ]
  },
  {
   "cell_type": "code",
   "execution_count": 6,
   "id": "941b5d20",
   "metadata": {},
   "outputs": [],
   "source": [
    "def twosum(a,b):\n",
    "    add = a+b\n",
    "    return add"
   ]
  },
  {
   "cell_type": "code",
   "execution_count": 8,
   "id": "7cf7af4c",
   "metadata": {},
   "outputs": [
    {
     "data": {
      "text/plain": [
       "6"
      ]
     },
     "execution_count": 8,
     "metadata": {},
     "output_type": "execute_result"
    }
   ],
   "source": [
    "twosum(2,4)"
   ]
  },
  {
   "cell_type": "markdown",
   "id": "9840fd74",
   "metadata": {},
   "source": [
    "## 3. Maximum of two numbers in Python"
   ]
  },
  {
   "cell_type": "code",
   "execution_count": 9,
   "id": "b7085134",
   "metadata": {},
   "outputs": [
    {
     "data": {
      "text/plain": [
       "4"
      ]
     },
     "execution_count": 9,
     "metadata": {},
     "output_type": "execute_result"
    }
   ],
   "source": [
    "max(2,4)"
   ]
  },
  {
   "cell_type": "markdown",
   "id": "5ea5bcfc",
   "metadata": {},
   "source": [
    "## 4. Python Program for factorial of a number"
   ]
  },
  {
   "cell_type": "code",
   "execution_count": 11,
   "id": "056000a2",
   "metadata": {},
   "outputs": [],
   "source": [
    "def factorial(num):\n",
    "    if num == 1:\n",
    "        return 1\n",
    "    else:\n",
    "        return(num*factorial(num-1))\n",
    "    "
   ]
  },
  {
   "cell_type": "code",
   "execution_count": 13,
   "id": "1e2afaf8",
   "metadata": {},
   "outputs": [
    {
     "data": {
      "text/plain": [
       "24"
      ]
     },
     "execution_count": 13,
     "metadata": {},
     "output_type": "execute_result"
    }
   ],
   "source": [
    "factorial(4)"
   ]
  },
  {
   "cell_type": "markdown",
   "id": "293f8776",
   "metadata": {},
   "source": [
    "## 5. Python Program for simple interest"
   ]
  },
  {
   "cell_type": "markdown",
   "id": "384b919f",
   "metadata": {},
   "source": [
    "#### simple interest formula\n",
    "S.I = p*r*t\n",
    "\n",
    " where\n",
    "       P = principle\n",
    "       r = rate\n",
    "       t = time(in years)"
   ]
  },
  {
   "cell_type": "code",
   "execution_count": 29,
   "id": "a0d03540",
   "metadata": {},
   "outputs": [],
   "source": [
    "def simpleinterest(principle,rate,time):\n",
    "    return print(f\"amount = {(principle*rate*time)/100}\")"
   ]
  },
  {
   "cell_type": "code",
   "execution_count": 23,
   "id": "184c65f5",
   "metadata": {},
   "outputs": [
    {
     "name": "stdout",
     "output_type": "stream",
     "text": [
      "amount = 90.0\n"
     ]
    }
   ],
   "source": [
    "simpleinterest(1200,3.75,2)"
   ]
  },
  {
   "cell_type": "markdown",
   "id": "abb5660b",
   "metadata": {},
   "source": [
    "## 6. Python Program for compound interest"
   ]
  },
  {
   "cell_type": "markdown",
   "id": "c8ed8888",
   "metadata": {},
   "source": [
    "#### compound interest\n",
    " CI = [p(1+i)^n] - p\n",
    " where \n",
    " p = principle\n",
    " i - nominal interest rate in percentage \n",
    " n = number of compounding periods "
   ]
  },
  {
   "cell_type": "code",
   "execution_count": 37,
   "id": "da8aaa01",
   "metadata": {},
   "outputs": [],
   "source": [
    "def compoundinterest(p,i,n):\n",
    "    return print(f\"Compound Interest = {p*((1+i)**n)-p}\")"
   ]
  },
  {
   "cell_type": "code",
   "execution_count": 38,
   "id": "163c3bf6",
   "metadata": {},
   "outputs": [
    {
     "name": "stdout",
     "output_type": "stream",
     "text": [
      "Compound Interest = 1576.2500000000018\n"
     ]
    }
   ],
   "source": [
    "compoundinterest(10000,.05,3)"
   ]
  },
  {
   "cell_type": "markdown",
   "id": "db3af23a",
   "metadata": {},
   "source": [
    "## 7. Python Program to check Armstrong Number"
   ]
  },
  {
   "cell_type": "markdown",
   "id": "139f2396",
   "metadata": {},
   "source": [
    "An Armstrong number, also known as narcissistic number, is a number that is equal to the sum of the cubes of its own digits. For example, 370 is an Armstrong number since 370 = 3x3x3 + 7x7x7 + 0x0x0"
   ]
  },
  {
   "cell_type": "code",
   "execution_count": 40,
   "id": "e52ec03b",
   "metadata": {},
   "outputs": [],
   "source": [
    "def armstrong(numb):\n",
    "    numb = str(numb)\n",
    "    armstr = 0\n",
    "    l1 = [int(i) for i in numb]\n",
    "    for i in range(0,len(numb)):\n",
    "        armstr+= l1[i]*l1[i]*l1[i]\n",
    "    return armstr"
   ]
  },
  {
   "cell_type": "code",
   "execution_count": 41,
   "id": "1b87ceba",
   "metadata": {},
   "outputs": [
    {
     "data": {
      "text/plain": [
       "35"
      ]
     },
     "execution_count": 41,
     "metadata": {},
     "output_type": "execute_result"
    }
   ],
   "source": [
    "armstrong(23)"
   ]
  },
  {
   "cell_type": "markdown",
   "id": "4cb21d03",
   "metadata": {},
   "source": [
    "## 8. Python Program for Program to find area of a circle"
   ]
  },
  {
   "cell_type": "code",
   "execution_count": 43,
   "id": "034bff5b",
   "metadata": {},
   "outputs": [],
   "source": [
    "def areacircle(r):\n",
    "    pi = 3.14\n",
    "    return 3*pi*r**2"
   ]
  },
  {
   "cell_type": "code",
   "execution_count": 44,
   "id": "8e752a5e",
   "metadata": {},
   "outputs": [
    {
     "data": {
      "text/plain": [
       "37.68"
      ]
     },
     "execution_count": 44,
     "metadata": {},
     "output_type": "execute_result"
    }
   ],
   "source": [
    "areacircle(2)"
   ]
  },
  {
   "cell_type": "markdown",
   "id": "fbf1eed0",
   "metadata": {},
   "source": [
    "## 9. Python program to print all Prime numbers in an Interval"
   ]
  },
  {
   "cell_type": "code",
   "execution_count": 50,
   "id": "f8ad2a5a",
   "metadata": {},
   "outputs": [],
   "source": [
    "from math import sqrt\n",
    "def primenumb(a,b):\n",
    "    prime = []\n",
    "    while a<=b:\n",
    "        flag = 0\n",
    "        for i in range(2,int(sqrt(a))+1):\n",
    "            if a%i ==0:\n",
    "                flag =1\n",
    "        if flag ==0:\n",
    "            prime.append(a)\n",
    "        a+=1\n",
    "    return prime\n",
    "                "
   ]
  },
  {
   "cell_type": "code",
   "execution_count": 51,
   "id": "2773a1d5",
   "metadata": {},
   "outputs": [
    {
     "data": {
      "text/plain": [
       "[1, 2, 3, 5, 7]"
      ]
     },
     "execution_count": 51,
     "metadata": {},
     "output_type": "execute_result"
    }
   ],
   "source": [
    "primenumb(1,10)"
   ]
  },
  {
   "cell_type": "markdown",
   "id": "ff0f5d65",
   "metadata": {},
   "source": [
    "### 10. Python program to check whether a number is Prime or not"
   ]
  },
  {
   "cell_type": "code",
   "execution_count": 56,
   "id": "1b72964e",
   "metadata": {},
   "outputs": [],
   "source": [
    "from math import sqrt\n",
    "def primenumb(a):\n",
    "    flag = True\n",
    "    for i in range(2,int(sqrt(a))+1):\n",
    "        if a%i ==0:\n",
    "            flag =False  \n",
    "        \n",
    "    return flag"
   ]
  },
  {
   "cell_type": "code",
   "execution_count": 58,
   "id": "03d2a34b",
   "metadata": {},
   "outputs": [
    {
     "data": {
      "text/plain": [
       "False"
      ]
     },
     "execution_count": 58,
     "metadata": {},
     "output_type": "execute_result"
    }
   ],
   "source": [
    "primenumb(4)"
   ]
  },
  {
   "cell_type": "code",
   "execution_count": null,
   "id": "3b2b85f6",
   "metadata": {},
   "outputs": [],
   "source": [
    "\n",
    "    "
   ]
  },
  {
   "cell_type": "code",
   "execution_count": null,
   "id": "9af642ab",
   "metadata": {},
   "outputs": [],
   "source": []
  }
 ],
 "metadata": {
  "kernelspec": {
   "display_name": "Python 3 (ipykernel)",
   "language": "python",
   "name": "python3"
  },
  "language_info": {
   "codemirror_mode": {
    "name": "ipython",
    "version": 3
   },
   "file_extension": ".py",
   "mimetype": "text/x-python",
   "name": "python",
   "nbconvert_exporter": "python",
   "pygments_lexer": "ipython3",
   "version": "3.9.7"
  }
 },
 "nbformat": 4,
 "nbformat_minor": 5
}
