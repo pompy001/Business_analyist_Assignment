{
 "cells": [
  {
   "cell_type": "markdown",
   "id": "21e23ecd",
   "metadata": {},
   "source": [
    "## 1. Python Program for Find reminder of array multiplication divided by n"
   ]
  },
  {
   "cell_type": "code",
   "execution_count": 9,
   "id": "7e0c50e6",
   "metadata": {},
   "outputs": [],
   "source": [
    "def arrreminder(arr,n):\n",
    "    mul = 1\n",
    "    for i in arr:\n",
    "        mul*=i\n",
    "    return mul % n"
   ]
  },
  {
   "cell_type": "code",
   "execution_count": 10,
   "id": "8e993147",
   "metadata": {},
   "outputs": [
    {
     "data": {
      "text/plain": [
       "1"
      ]
     },
     "execution_count": 10,
     "metadata": {},
     "output_type": "execute_result"
    }
   ],
   "source": [
    "arrreminder([1,2,3],5)"
   ]
  },
  {
   "cell_type": "markdown",
   "id": "383715b3",
   "metadata": {},
   "source": [
    "## 2. Python Program to check if given array is Monotonic"
   ]
  },
  {
   "cell_type": "code",
   "execution_count": 97,
   "id": "ed76cad7",
   "metadata": {},
   "outputs": [],
   "source": [
    "def mono(arr):\n",
    "    flag =0\n",
    "    if arr[0]<arr[1]:\n",
    "        for i in range(0,len(arr)-1):\n",
    "            if arr[i]<arr[i+1]:\n",
    "                flag+=1\n",
    "        if flag ==(len(arr)-1):\n",
    "            return print(\"it is inc monotonic\")\n",
    "        else:\n",
    "            return print(\"it is not monotonic\")\n",
    "    elif arr[0]>arr[1]:\n",
    "        for i in range(0,len(arr)-1):\n",
    "            if arr[i]>arr[i+1]:\n",
    "                flag+=1\n",
    "        if flag ==(len(arr)-1):\n",
    "            return print(\"it is dec monotonic\")\n",
    "        else:\n",
    "            return print(\"it is not monotonic\")\n",
    "    \n",
    "                \n",
    "            \n",
    "            \n",
    "            "
   ]
  },
  {
   "cell_type": "code",
   "execution_count": 99,
   "id": "14b8196c",
   "metadata": {},
   "outputs": [
    {
     "name": "stdout",
     "output_type": "stream",
     "text": [
      "it is not monotonic\n"
     ]
    }
   ],
   "source": [
    "mono([9,8,11,3])"
   ]
  },
  {
   "cell_type": "markdown",
   "id": "18467a6e",
   "metadata": {},
   "source": [
    "## 3. Python program to interchange first and last elements in a list"
   ]
  },
  {
   "cell_type": "code",
   "execution_count": 30,
   "id": "f2ef61e1",
   "metadata": {},
   "outputs": [],
   "source": [
    "def interlist(list1):\n",
    "    list1[0],list1[-1]=list1[-1],list1[0]\n",
    "    return list1"
   ]
  },
  {
   "cell_type": "code",
   "execution_count": 31,
   "id": "4baeba52",
   "metadata": {},
   "outputs": [
    {
     "data": {
      "text/plain": [
       "[4, 2, 3, 1]"
      ]
     },
     "execution_count": 31,
     "metadata": {},
     "output_type": "execute_result"
    }
   ],
   "source": [
    "interlist([1,2,3,4])"
   ]
  },
  {
   "cell_type": "markdown",
   "id": "4cd77d53",
   "metadata": {},
   "source": [
    "## 4. Python program to swap two elements in a list"
   ]
  },
  {
   "cell_type": "code",
   "execution_count": 33,
   "id": "608da883",
   "metadata": {},
   "outputs": [],
   "source": [
    "def swaplist(l1,pos1,pos2):\n",
    "    l1[pos1],l1[pos2]=l1[pos2],l1[pos1]\n",
    "    return l1"
   ]
  },
  {
   "cell_type": "code",
   "execution_count": 34,
   "id": "bd9d78db",
   "metadata": {},
   "outputs": [
    {
     "data": {
      "text/plain": [
       "[3, 2, 1, 4]"
      ]
     },
     "execution_count": 34,
     "metadata": {},
     "output_type": "execute_result"
    }
   ],
   "source": [
    "swaplist([1,2,3,4],0,2)"
   ]
  },
  {
   "cell_type": "markdown",
   "id": "d0efc7bd",
   "metadata": {},
   "source": [
    "## 5. write a program to find length of list"
   ]
  },
  {
   "cell_type": "code",
   "execution_count": 29,
   "id": "13a49df9",
   "metadata": {},
   "outputs": [
    {
     "name": "stdout",
     "output_type": "stream",
     "text": [
      "the length of the list 5\n"
     ]
    }
   ],
   "source": [
    "l1 = [1,2,3,4,5]\n",
    "print(f\"the length of the list {len(l1)}\")"
   ]
  },
  {
   "cell_type": "markdown",
   "id": "88539905",
   "metadata": {},
   "source": [
    "## 6. write a program to check if element exists in list"
   ]
  },
  {
   "cell_type": "code",
   "execution_count": 59,
   "id": "1de30d5c",
   "metadata": {},
   "outputs": [],
   "source": [
    "# def find(l1,n):\n",
    "#     try:\n",
    "#         l1.index(n)\n",
    "#         print(\"the number is preset\")\n",
    "#     except:\n",
    "#         print(\"the number is not present\")\n",
    "\n",
    "def find(l1,n):\n",
    "    for i in l1:\n",
    "        if i==n:\n",
    "            return print(\"the number is present\")\n",
    "            \n",
    "    else:\n",
    "        print(\"the number is not present\")\n",
    "        "
   ]
  },
  {
   "cell_type": "code",
   "execution_count": 64,
   "id": "2ea77504",
   "metadata": {},
   "outputs": [
    {
     "name": "stdout",
     "output_type": "stream",
     "text": [
      "the number is not present\n"
     ]
    }
   ],
   "source": [
    "find([1,2,3,4],8)"
   ]
  },
  {
   "cell_type": "markdown",
   "id": "7ecbe1d6",
   "metadata": {},
   "source": [
    "## 7.write a program to clear a list in Python"
   ]
  },
  {
   "cell_type": "code",
   "execution_count": 65,
   "id": "81d3e719",
   "metadata": {},
   "outputs": [
    {
     "name": "stdout",
     "output_type": "stream",
     "text": [
      "[]\n"
     ]
    }
   ],
   "source": [
    "l1 = [1,2,3,4,5]\n",
    "l1.clear()\n",
    "print(l1)"
   ]
  },
  {
   "cell_type": "markdown",
   "id": "3041becb",
   "metadata": {},
   "source": [
    "## 8. write a program to Reversing a List"
   ]
  },
  {
   "cell_type": "code",
   "execution_count": 67,
   "id": "2a09f0f7",
   "metadata": {},
   "outputs": [
    {
     "name": "stdout",
     "output_type": "stream",
     "text": [
      "[6, 5, 4, 3, 2, 1]\n"
     ]
    }
   ],
   "source": [
    "l1 = [1,2,3,4,5,6]\n",
    "l1 = l1[::-1]\n",
    "print(l1)"
   ]
  },
  {
   "cell_type": "markdown",
   "id": "2e7125d6",
   "metadata": {},
   "source": [
    "## 9. write a program to find sum of elements in list"
   ]
  },
  {
   "cell_type": "code",
   "execution_count": 71,
   "id": "7bd06589",
   "metadata": {},
   "outputs": [
    {
     "data": {
      "text/plain": [
       "15"
      ]
     },
     "execution_count": 71,
     "metadata": {},
     "output_type": "execute_result"
    }
   ],
   "source": [
    "sum([1,2,3,4,5])"
   ]
  },
  {
   "cell_type": "markdown",
   "id": "9c698637",
   "metadata": {},
   "source": [
    "## 10. write a program to Multiply all numbers in the list"
   ]
  },
  {
   "cell_type": "code",
   "execution_count": 72,
   "id": "a75d8243",
   "metadata": {},
   "outputs": [],
   "source": [
    "def mullist(list):\n",
    "    mul = 1\n",
    "    for i in list:\n",
    "        mul*=i\n",
    "    return mul\n"
   ]
  },
  {
   "cell_type": "code",
   "execution_count": 73,
   "id": "b70b8784",
   "metadata": {},
   "outputs": [
    {
     "data": {
      "text/plain": [
       "6"
      ]
     },
     "execution_count": 73,
     "metadata": {},
     "output_type": "execute_result"
    }
   ],
   "source": [
    "mullist([1,2,3])"
   ]
  }
 ],
 "metadata": {
  "kernelspec": {
   "display_name": "Python 3 (ipykernel)",
   "language": "python",
   "name": "python3"
  },
  "language_info": {
   "codemirror_mode": {
    "name": "ipython",
    "version": 3
   },
   "file_extension": ".py",
   "mimetype": "text/x-python",
   "name": "python",
   "nbconvert_exporter": "python",
   "pygments_lexer": "ipython3",
   "version": "3.9.7"
  }
 },
 "nbformat": 4,
 "nbformat_minor": 5
}
